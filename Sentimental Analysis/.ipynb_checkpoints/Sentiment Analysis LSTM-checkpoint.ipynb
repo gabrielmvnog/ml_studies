{
 "cells": [
  {
   "cell_type": "code",
   "execution_count": 291,
   "metadata": {},
   "outputs": [],
   "source": [
    "from keras.preprocessing.text import Tokenizer\n",
    "from keras.preprocessing.sequence import pad_sequences\n",
    "from tensorflow.keras.models import Sequential\n",
    "from tensorflow.keras.layers import Embedding, CuDNNLSTM, Dense\n",
    "import pandas as pd\n",
    "import re\n",
    "import numpy as np\n",
    "import unicodedata\n",
    "import spacy\n",
    "from spacy.lang.pt.stop_words import STOP_WORDS\n",
    "from sklearn.model_selection import train_test_split\n",
    "from tensorflow.keras.optimizers import SGD\n",
    "\n",
    "\n",
    "nlp = spacy.load(\"pt_core_news_sm\")"
   ]
  },
  {
   "cell_type": "code",
   "execution_count": 292,
   "metadata": {},
   "outputs": [
    {
     "data": {
      "text/html": [
       "<div>\n",
       "<style scoped>\n",
       "    .dataframe tbody tr th:only-of-type {\n",
       "        vertical-align: middle;\n",
       "    }\n",
       "\n",
       "    .dataframe tbody tr th {\n",
       "        vertical-align: top;\n",
       "    }\n",
       "\n",
       "    .dataframe thead th {\n",
       "        text-align: right;\n",
       "    }\n",
       "</style>\n",
       "<table border=\"1\" class=\"dataframe\">\n",
       "  <thead>\n",
       "    <tr style=\"text-align: right;\">\n",
       "      <th></th>\n",
       "      <th>texto</th>\n",
       "      <th>sentimento</th>\n",
       "    </tr>\n",
       "  </thead>\n",
       "  <tbody>\n",
       "    <tr>\n",
       "      <th>0</th>\n",
       "      <td>���⛪ @ Catedral de Santo Antônio - Governador ...</td>\n",
       "      <td>Neutro</td>\n",
       "    </tr>\n",
       "    <tr>\n",
       "      <th>1</th>\n",
       "      <td>� @ Governador Valadares, Minas Gerais https:/...</td>\n",
       "      <td>Neutro</td>\n",
       "    </tr>\n",
       "    <tr>\n",
       "      <th>2</th>\n",
       "      <td>�� @ Governador Valadares, Minas Gerais https:...</td>\n",
       "      <td>Neutro</td>\n",
       "    </tr>\n",
       "    <tr>\n",
       "      <th>3</th>\n",
       "      <td>��� https://t.co/BnDsO34qK0</td>\n",
       "      <td>Neutro</td>\n",
       "    </tr>\n",
       "    <tr>\n",
       "      <th>4</th>\n",
       "      <td>��� PSOL vai questionar aumento de vereadores ...</td>\n",
       "      <td>Negativo</td>\n",
       "    </tr>\n",
       "  </tbody>\n",
       "</table>\n",
       "</div>"
      ],
      "text/plain": [
       "                                               texto sentimento\n",
       "0  ���⛪ @ Catedral de Santo Antônio - Governador ...     Neutro\n",
       "1  � @ Governador Valadares, Minas Gerais https:/...     Neutro\n",
       "2  �� @ Governador Valadares, Minas Gerais https:...     Neutro\n",
       "3                        ��� https://t.co/BnDsO34qK0     Neutro\n",
       "4  ��� PSOL vai questionar aumento de vereadores ...   Negativo"
      ]
     },
     "execution_count": 292,
     "metadata": {},
     "output_type": "execute_result"
    }
   ],
   "source": [
    "df = pd.read_csv('Tweets_Mg.csv', header=None)\n",
    "df.columns = ['texto', 'sentimento']\n",
    "df.head()"
   ]
  },
  {
   "cell_type": "code",
   "execution_count": 342,
   "metadata": {},
   "outputs": [],
   "source": [
    "def preprocess(text):\n",
    "    text = text.lower()\n",
    "    text = ' '.join([word for word in text.split() if word not in STOP_WORDS])\n",
    "    text = unicodedata.normalize('NFKD', text).encode('ascii', 'ignore').decode('utf-8', 'ignore')\n",
    "    text = re.sub(r'[\\r|\\n|\\r\\n]+', ' ', text)\n",
    "    text = re.sub(r'[?!.,@#:]', '', text)\n",
    "    special_char_pattern = re.compile(r'[\\}\\}\\\\\\(\\)\\./!-]')\n",
    "    text = special_char_pattern.sub(\" \", text)  \n",
    "    \n",
    "    return text.strip()"
   ]
  },
  {
   "cell_type": "code",
   "execution_count": 343,
   "metadata": {},
   "outputs": [
    {
     "data": {
      "text/html": [
       "<div>\n",
       "<style scoped>\n",
       "    .dataframe tbody tr th:only-of-type {\n",
       "        vertical-align: middle;\n",
       "    }\n",
       "\n",
       "    .dataframe tbody tr th {\n",
       "        vertical-align: top;\n",
       "    }\n",
       "\n",
       "    .dataframe thead th {\n",
       "        text-align: right;\n",
       "    }\n",
       "</style>\n",
       "<table border=\"1\" class=\"dataframe\">\n",
       "  <thead>\n",
       "    <tr style=\"text-align: right;\">\n",
       "      <th></th>\n",
       "      <th>texto</th>\n",
       "      <th>sentimento</th>\n",
       "    </tr>\n",
       "  </thead>\n",
       "  <tbody>\n",
       "    <tr>\n",
       "      <th>0</th>\n",
       "      <td>catedral santo antonio governador valadares mg...</td>\n",
       "      <td>0</td>\n",
       "    </tr>\n",
       "    <tr>\n",
       "      <th>1</th>\n",
       "      <td>governador valadares minas gerais https tco b3...</td>\n",
       "      <td>0</td>\n",
       "    </tr>\n",
       "    <tr>\n",
       "      <th>2</th>\n",
       "      <td>governador valadares minas gerais https tco dp...</td>\n",
       "      <td>0</td>\n",
       "    </tr>\n",
       "    <tr>\n",
       "      <th>3</th>\n",
       "      <td>https tco bndso34qk0</td>\n",
       "      <td>0</td>\n",
       "    </tr>\n",
       "    <tr>\n",
       "      <th>4</th>\n",
       "      <td>psol questionar aumento vereadores e prefeito ...</td>\n",
       "      <td>1</td>\n",
       "    </tr>\n",
       "  </tbody>\n",
       "</table>\n",
       "</div>"
      ],
      "text/plain": [
       "                                               texto  sentimento\n",
       "0  catedral santo antonio governador valadares mg...           0\n",
       "1  governador valadares minas gerais https tco b3...           0\n",
       "2  governador valadares minas gerais https tco dp...           0\n",
       "3                               https tco bndso34qk0           0\n",
       "4  psol questionar aumento vereadores e prefeito ...           1"
      ]
     },
     "execution_count": 343,
     "metadata": {},
     "output_type": "execute_result"
    }
   ],
   "source": [
    "df['texto'] = df['texto'].apply(preprocess)\n",
    "df['sentimento'] = pd.factorize(df.sentimento)[0]\n",
    "df.head()"
   ]
  },
  {
   "cell_type": "code",
   "execution_count": 344,
   "metadata": {},
   "outputs": [],
   "source": [
    "tokenizer = Tokenizer(num_words=None, lower=True, split=' ', filters='!\"#$%&()*+,-./:;<=>?@[\\]^_`{|}~ ')\n",
    "tokenizer.fit_on_texts(df['texto'])\n",
    "X = tokenizer.texts_to_sequences(df['texto'])\n",
    "X = pad_sequences(X)"
   ]
  },
  {
   "cell_type": "code",
   "execution_count": 407,
   "metadata": {},
   "outputs": [
    {
     "name": "stdout",
     "output_type": "stream",
     "text": [
      "_________________________________________________________________\n",
      "Layer (type)                 Output Shape              Param #   \n",
      "=================================================================\n",
      "embedding_60 (Embedding)     (None, 25, 150)           600000    \n",
      "_________________________________________________________________\n",
      "cu_dnnlstm_56 (CuDNNLSTM)    (None, 400)               883200    \n",
      "_________________________________________________________________\n",
      "dense_106 (Dense)            (None, 3)                 1203      \n",
      "=================================================================\n",
      "Total params: 1,484,403\n",
      "Trainable params: 1,484,403\n",
      "Non-trainable params: 0\n",
      "_________________________________________________________________\n"
     ]
    }
   ],
   "source": [
    "embed_size = 150\n",
    "lstm_out = 400\n",
    "batch_size = 64\n",
    "\n",
    "model = Sequential()\n",
    "model .add(Embedding(4000, embed_size, input_length = X.shape[1]))\n",
    "model .add(LSTM(lstm_out))\n",
    "model .add(Dense(3, activation='softmax'))\n",
    "\n",
    "modelCUDA = Sequential()\n",
    "modelCUDA .add(Embedding(4000, embed_size, input_length = X.shape[1]))\n",
    "modelCUDA .add(CuDNNLSTM(lstm_out))\n",
    "modelCUDA .add(Dense(3, activation='softmax'))\n",
    "\n",
    "sgd = SGD(lr=0.01, decay=1e-4, momentum=0.9, nesterov=True)\n",
    "model.compile(loss = 'categorical_crossentropy', optimizer=sgd, metrics=['accuracy'])\n",
    "model.summary()"
   ]
  },
  {
   "cell_type": "code",
   "execution_count": 408,
   "metadata": {},
   "outputs": [],
   "source": [
    "X_train, X_test, y_train, y_test = train_test_split(X, pd.get_dummies(df['sentimento']), test_size=0.3,random_state=42)"
   ]
  },
  {
   "cell_type": "code",
   "execution_count": 409,
   "metadata": {
    "scrolled": false
   },
   "outputs": [
    {
     "name": "stderr",
     "output_type": "stream",
     "text": [
      "/home/gabriel/.pyenv/versions/3.6.5/lib/python3.6/site-packages/tensorflow/python/ops/gradients_impl.py:108: UserWarning: Converting sparse IndexedSlices to a dense Tensor of unknown shape. This may consume a large amount of memory.\n",
      "  \"Converting sparse IndexedSlices to a dense Tensor of unknown shape. \"\n"
     ]
    },
    {
     "name": "stdout",
     "output_type": "stream",
     "text": [
      "Epoch 1/50\n",
      "5739/5739 [==============================] - 4s 662us/step - loss: 1.0850 - acc: 0.4020\n",
      "Epoch 2/50\n",
      "5739/5739 [==============================] - 1s 198us/step - loss: 1.0722 - acc: 0.4043\n",
      "Epoch 3/50\n",
      "5739/5739 [==============================] - 1s 197us/step - loss: 1.0261 - acc: 0.4861\n",
      "Epoch 4/50\n",
      "5739/5739 [==============================] - 1s 199us/step - loss: 0.7872 - acc: 0.6627\n",
      "Epoch 5/50\n",
      "5739/5739 [==============================] - 1s 203us/step - loss: 0.4952 - acc: 0.8040\n",
      "Epoch 6/50\n",
      "5739/5739 [==============================] - 1s 200us/step - loss: 0.3370 - acc: 0.8782\n",
      "Epoch 7/50\n",
      "5739/5739 [==============================] - 1s 199us/step - loss: 0.2636 - acc: 0.9153\n",
      "Epoch 8/50\n",
      "5739/5739 [==============================] - 1s 204us/step - loss: 0.6111 - acc: 0.7911\n",
      "Epoch 9/50\n",
      "5739/5739 [==============================] - 1s 206us/step - loss: 0.2387 - acc: 0.9230\n",
      "Epoch 10/50\n",
      "5739/5739 [==============================] - 1s 205us/step - loss: 0.1878 - acc: 0.9427\n",
      "Epoch 11/50\n",
      "5739/5739 [==============================] - 1s 200us/step - loss: 0.1754 - acc: 0.9458\n",
      "Epoch 12/50\n",
      "5739/5739 [==============================] - 1s 202us/step - loss: 0.1660 - acc: 0.9486\n",
      "Epoch 13/50\n",
      "5739/5739 [==============================] - 1s 200us/step - loss: 0.1339 - acc: 0.9629\n",
      "Epoch 14/50\n",
      "5739/5739 [==============================] - 1s 201us/step - loss: 0.1250 - acc: 0.9631\n",
      "Epoch 15/50\n",
      "5739/5739 [==============================] - 1s 201us/step - loss: 0.1155 - acc: 0.9678\n",
      "Epoch 16/50\n",
      "5739/5739 [==============================] - 1s 199us/step - loss: 0.1087 - acc: 0.9700\n",
      "Epoch 17/50\n",
      "5739/5739 [==============================] - 1s 198us/step - loss: 0.1002 - acc: 0.9725\n",
      "Epoch 18/50\n",
      "5739/5739 [==============================] - 1s 200us/step - loss: 0.0932 - acc: 0.9733\n",
      "Epoch 19/50\n",
      "5739/5739 [==============================] - 1s 198us/step - loss: 0.0889 - acc: 0.9756\n",
      "Epoch 20/50\n",
      "5739/5739 [==============================] - 1s 195us/step - loss: 0.0849 - acc: 0.9760\n",
      "Epoch 21/50\n",
      "5739/5739 [==============================] - 1s 199us/step - loss: 0.0823 - acc: 0.9761\n",
      "Epoch 22/50\n",
      "5739/5739 [==============================] - 1s 197us/step - loss: 0.5376 - acc: 0.8214\n",
      "Epoch 23/50\n",
      "5739/5739 [==============================] - 1s 210us/step - loss: 0.1604 - acc: 0.9516\n",
      "Epoch 24/50\n",
      "5739/5739 [==============================] - 1s 195us/step - loss: 0.0960 - acc: 0.9730\n",
      "Epoch 25/50\n",
      "5739/5739 [==============================] - 1s 197us/step - loss: 0.0835 - acc: 0.9753\n",
      "Epoch 26/50\n",
      "5739/5739 [==============================] - 1s 193us/step - loss: 0.0721 - acc: 0.9777\n",
      "Epoch 27/50\n",
      "5739/5739 [==============================] - 1s 196us/step - loss: 0.0690 - acc: 0.9807\n",
      "Epoch 28/50\n",
      "5739/5739 [==============================] - 1s 204us/step - loss: 0.0648 - acc: 0.9805\n",
      "Epoch 29/50\n",
      "5739/5739 [==============================] - 1s 195us/step - loss: 0.0587 - acc: 0.9838\n",
      "Epoch 30/50\n",
      "5739/5739 [==============================] - 1s 195us/step - loss: 0.0550 - acc: 0.9850\n",
      "Epoch 31/50\n",
      "5739/5739 [==============================] - 1s 196us/step - loss: 0.0544 - acc: 0.9843\n",
      "Epoch 32/50\n",
      "5739/5739 [==============================] - 1s 198us/step - loss: 0.0498 - acc: 0.9868\n",
      "Epoch 33/50\n",
      "5739/5739 [==============================] - 1s 200us/step - loss: 0.0510 - acc: 0.9866\n",
      "Epoch 34/50\n",
      "5739/5739 [==============================] - 1s 195us/step - loss: 0.0459 - acc: 0.9882\n",
      "Epoch 35/50\n",
      "5739/5739 [==============================] - 1s 201us/step - loss: 0.0432 - acc: 0.9888\n",
      "Epoch 36/50\n",
      "5739/5739 [==============================] - 1s 202us/step - loss: 0.0425 - acc: 0.9895\n",
      "Epoch 37/50\n",
      "5739/5739 [==============================] - 1s 194us/step - loss: 0.0438 - acc: 0.9875\n",
      "Epoch 38/50\n",
      "5739/5739 [==============================] - 1s 195us/step - loss: 0.0396 - acc: 0.9894\n",
      "Epoch 39/50\n",
      "5739/5739 [==============================] - 1s 204us/step - loss: 0.0377 - acc: 0.9897\n",
      "Epoch 40/50\n",
      "5739/5739 [==============================] - 1s 199us/step - loss: 0.0368 - acc: 0.9904\n",
      "Epoch 41/50\n",
      "5739/5739 [==============================] - 1s 194us/step - loss: 0.0344 - acc: 0.9922\n",
      "Epoch 42/50\n",
      "5739/5739 [==============================] - 1s 193us/step - loss: 0.0362 - acc: 0.9908\n",
      "Epoch 43/50\n",
      "5739/5739 [==============================] - 1s 197us/step - loss: 0.0325 - acc: 0.9920\n",
      "Epoch 44/50\n",
      "5739/5739 [==============================] - 1s 195us/step - loss: 0.0307 - acc: 0.9925\n",
      "Epoch 45/50\n",
      "5739/5739 [==============================] - 1s 197us/step - loss: 0.0322 - acc: 0.9909\n",
      "Epoch 46/50\n",
      "5739/5739 [==============================] - 1s 196us/step - loss: 0.0288 - acc: 0.9923\n",
      "Epoch 47/50\n",
      "5739/5739 [==============================] - 1s 197us/step - loss: 0.0262 - acc: 0.9930\n",
      "Epoch 48/50\n",
      "5739/5739 [==============================] - 1s 203us/step - loss: 0.0284 - acc: 0.9932\n",
      "Epoch 49/50\n",
      "5739/5739 [==============================] - 1s 195us/step - loss: 0.0279 - acc: 0.9929\n",
      "Epoch 50/50\n",
      "5739/5739 [==============================] - 1s 198us/step - loss: 0.0308 - acc: 0.9923\n"
     ]
    },
    {
     "data": {
      "text/plain": [
       "<tensorflow.python.keras.callbacks.History at 0x7ff81e7d1f28>"
      ]
     },
     "execution_count": 409,
     "metadata": {},
     "output_type": "execute_result"
    }
   ],
   "source": [
    "model.fit(X_train, y_train, batch_size=batch_size, epochs=50)"
   ]
  },
  {
   "cell_type": "code",
   "execution_count": 410,
   "metadata": {},
   "outputs": [
    {
     "name": "stdout",
     "output_type": "stream",
     "text": [
      "2460/2460 [==============================] - 1s 546us/step\n",
      "score: 0.18\n",
      "acc: 0.96\n"
     ]
    }
   ],
   "source": [
    "score, acc = model.evaluate(X_test, y_test, batch_size=batch_size)\n",
    "print('score: {0:.2}'.format(score))\n",
    "print('acc: {0:.2}'.format(acc))"
   ]
  },
  {
   "cell_type": "code",
   "execution_count": 411,
   "metadata": {},
   "outputs": [],
   "source": [
    "def deprocess(text):\n",
    "    text_test = preprocess(text)\n",
    "    text_test = tokenizer.texts_to_sequences([text])\n",
    "    text_test = pad_sequences(text_test)\n",
    "    text_to_array = np.zeros(X.shape[1])\n",
    "    text_to_array[(text_to_array.shape[0] - text_test.shape[1]):] = text_test\n",
    "    result = np.argmax(model.predict(text_to_array.reshape(1,X.shape[1])))\n",
    "\n",
    "    if result == 0:\n",
    "        print('Neutro')\n",
    "    elif result == 1:\n",
    "        print('Negativo')\n",
    "    else:\n",
    "        print('Positvo')"
   ]
  },
  {
   "cell_type": "code",
   "execution_count": 412,
   "metadata": {},
   "outputs": [
    {
     "name": "stdout",
     "output_type": "stream",
     "text": [
      "Positvo\n"
     ]
    }
   ],
   "source": [
    "deprocess('PM apreende maconha e celular no presidio')"
   ]
  }
 ],
 "metadata": {
  "kernelspec": {
   "display_name": "pyenv",
   "language": "python",
   "name": "pyenv"
  },
  "language_info": {
   "codemirror_mode": {
    "name": "ipython",
    "version": 3
   },
   "file_extension": ".py",
   "mimetype": "text/x-python",
   "name": "python",
   "nbconvert_exporter": "python",
   "pygments_lexer": "ipython3",
   "version": "3.6.5"
  }
 },
 "nbformat": 4,
 "nbformat_minor": 2
}
