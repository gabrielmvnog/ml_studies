{
 "cells": [
  {
   "cell_type": "code",
   "execution_count": 1,
   "metadata": {},
   "outputs": [
    {
     "name": "stderr",
     "output_type": "stream",
     "text": [
      "Using TensorFlow backend.\n"
     ]
    }
   ],
   "source": [
    "from keras.preprocessing.text import Tokenizer\n",
    "from keras.preprocessing.sequence import pad_sequences\n",
    "from tensorflow.keras.models import Sequential\n",
    "from tensorflow.keras.layers import Embedding, CuDNNLSTM, Dense, LSTM\n",
    "import pandas as pd\n",
    "import re\n",
    "import numpy as np\n",
    "import unicodedata\n",
    "import spacy\n",
    "from spacy.lang.pt.stop_words import STOP_WORDS\n",
    "from sklearn.model_selection import train_test_split\n",
    "from tensorflow.keras.optimizers import SGD\n",
    "\n",
    "\n",
    "nlp = spacy.load(\"pt_core_news_sm\")"
   ]
  },
  {
   "cell_type": "code",
   "execution_count": 2,
   "metadata": {},
   "outputs": [
    {
     "data": {
      "text/html": [
       "<div>\n",
       "<style scoped>\n",
       "    .dataframe tbody tr th:only-of-type {\n",
       "        vertical-align: middle;\n",
       "    }\n",
       "\n",
       "    .dataframe tbody tr th {\n",
       "        vertical-align: top;\n",
       "    }\n",
       "\n",
       "    .dataframe thead th {\n",
       "        text-align: right;\n",
       "    }\n",
       "</style>\n",
       "<table border=\"1\" class=\"dataframe\">\n",
       "  <thead>\n",
       "    <tr style=\"text-align: right;\">\n",
       "      <th></th>\n",
       "      <th>texto</th>\n",
       "      <th>sentimento</th>\n",
       "    </tr>\n",
       "  </thead>\n",
       "  <tbody>\n",
       "    <tr>\n",
       "      <th>0</th>\n",
       "      <td>���⛪ @ Catedral de Santo Antônio - Governador ...</td>\n",
       "      <td>Neutro</td>\n",
       "    </tr>\n",
       "    <tr>\n",
       "      <th>1</th>\n",
       "      <td>� @ Governador Valadares, Minas Gerais https:/...</td>\n",
       "      <td>Neutro</td>\n",
       "    </tr>\n",
       "    <tr>\n",
       "      <th>2</th>\n",
       "      <td>�� @ Governador Valadares, Minas Gerais https:...</td>\n",
       "      <td>Neutro</td>\n",
       "    </tr>\n",
       "    <tr>\n",
       "      <th>3</th>\n",
       "      <td>��� https://t.co/BnDsO34qK0</td>\n",
       "      <td>Neutro</td>\n",
       "    </tr>\n",
       "    <tr>\n",
       "      <th>4</th>\n",
       "      <td>��� PSOL vai questionar aumento de vereadores ...</td>\n",
       "      <td>Negativo</td>\n",
       "    </tr>\n",
       "  </tbody>\n",
       "</table>\n",
       "</div>"
      ],
      "text/plain": [
       "                                               texto sentimento\n",
       "0  ���⛪ @ Catedral de Santo Antônio - Governador ...     Neutro\n",
       "1  � @ Governador Valadares, Minas Gerais https:/...     Neutro\n",
       "2  �� @ Governador Valadares, Minas Gerais https:...     Neutro\n",
       "3                        ��� https://t.co/BnDsO34qK0     Neutro\n",
       "4  ��� PSOL vai questionar aumento de vereadores ...   Negativo"
      ]
     },
     "execution_count": 2,
     "metadata": {},
     "output_type": "execute_result"
    }
   ],
   "source": [
    "df = pd.read_csv('Tweets_Mg.csv', header=None)\n",
    "df.columns = ['texto', 'sentimento']\n",
    "df.head()"
   ]
  },
  {
   "cell_type": "code",
   "execution_count": 3,
   "metadata": {},
   "outputs": [],
   "source": [
    "def preprocess(text):\n",
    "    text = text.lower()\n",
    "    text = ' '.join([word for word in text.split() if word not in STOP_WORDS])\n",
    "    text = unicodedata.normalize('NFKD', text).encode('ascii', 'ignore').decode('utf-8', 'ignore')\n",
    "    text = re.sub(r'[\\r|\\n|\\r\\n]+', ' ', text)\n",
    "    text = re.sub(r'[?!.,@#:]', '', text)\n",
    "    special_char_pattern = re.compile(r'[\\}\\}\\\\\\(\\)\\./!-]')\n",
    "    text = special_char_pattern.sub(\" \", text)  \n",
    "    \n",
    "    return text.strip()"
   ]
  },
  {
   "cell_type": "code",
   "execution_count": 4,
   "metadata": {},
   "outputs": [
    {
     "data": {
      "text/html": [
       "<div>\n",
       "<style scoped>\n",
       "    .dataframe tbody tr th:only-of-type {\n",
       "        vertical-align: middle;\n",
       "    }\n",
       "\n",
       "    .dataframe tbody tr th {\n",
       "        vertical-align: top;\n",
       "    }\n",
       "\n",
       "    .dataframe thead th {\n",
       "        text-align: right;\n",
       "    }\n",
       "</style>\n",
       "<table border=\"1\" class=\"dataframe\">\n",
       "  <thead>\n",
       "    <tr style=\"text-align: right;\">\n",
       "      <th></th>\n",
       "      <th>texto</th>\n",
       "      <th>sentimento</th>\n",
       "    </tr>\n",
       "  </thead>\n",
       "  <tbody>\n",
       "    <tr>\n",
       "      <th>0</th>\n",
       "      <td>catedral santo antonio   governador valadares ...</td>\n",
       "      <td>0</td>\n",
       "    </tr>\n",
       "    <tr>\n",
       "      <th>1</th>\n",
       "      <td>governador valadares minas gerais https  tco b...</td>\n",
       "      <td>0</td>\n",
       "    </tr>\n",
       "    <tr>\n",
       "      <th>2</th>\n",
       "      <td>governador valadares minas gerais https  tco d...</td>\n",
       "      <td>0</td>\n",
       "    </tr>\n",
       "    <tr>\n",
       "      <th>3</th>\n",
       "      <td>https  tco bndso34qk0</td>\n",
       "      <td>0</td>\n",
       "    </tr>\n",
       "    <tr>\n",
       "      <th>4</th>\n",
       "      <td>psol questionar aumento vereadores e prefeito ...</td>\n",
       "      <td>1</td>\n",
       "    </tr>\n",
       "  </tbody>\n",
       "</table>\n",
       "</div>"
      ],
      "text/plain": [
       "                                               texto  sentimento\n",
       "0  catedral santo antonio   governador valadares ...           0\n",
       "1  governador valadares minas gerais https  tco b...           0\n",
       "2  governador valadares minas gerais https  tco d...           0\n",
       "3                              https  tco bndso34qk0           0\n",
       "4  psol questionar aumento vereadores e prefeito ...           1"
      ]
     },
     "execution_count": 4,
     "metadata": {},
     "output_type": "execute_result"
    }
   ],
   "source": [
    "df['texto'] = df['texto'].apply(preprocess)\n",
    "df['sentimento'] = pd.factorize(df.sentimento)[0]\n",
    "df.head()"
   ]
  },
  {
   "cell_type": "code",
   "execution_count": 5,
   "metadata": {},
   "outputs": [],
   "source": [
    "tokenizer = Tokenizer(num_words=None, lower=True, split=' ', filters='!\"#$%&()*+,-./:;<=>?@[\\]^_`{|}~ ')\n",
    "tokenizer.fit_on_texts(df['texto'])\n",
    "X = tokenizer.texts_to_sequences(df['texto'])\n",
    "X = pad_sequences(X)"
   ]
  },
  {
   "cell_type": "code",
   "execution_count": 6,
   "metadata": {},
   "outputs": [
    {
     "name": "stdout",
     "output_type": "stream",
     "text": [
      "_________________________________________________________________\n",
      "Layer (type)                 Output Shape              Param #   \n",
      "=================================================================\n",
      "embedding (Embedding)        (None, 26, 150)           600000    \n",
      "_________________________________________________________________\n",
      "lstm (LSTM)                  (None, 400)               881600    \n",
      "_________________________________________________________________\n",
      "dense (Dense)                (None, 3)                 1203      \n",
      "=================================================================\n",
      "Total params: 1,482,803\n",
      "Trainable params: 1,482,803\n",
      "Non-trainable params: 0\n",
      "_________________________________________________________________\n",
      "None\n",
      "\n",
      "***\n",
      "\n",
      "_________________________________________________________________\n",
      "Layer (type)                 Output Shape              Param #   \n",
      "=================================================================\n",
      "embedding_1 (Embedding)      (None, 26, 150)           600000    \n",
      "_________________________________________________________________\n",
      "cu_dnnlstm (CuDNNLSTM)       (None, 400)               883200    \n",
      "_________________________________________________________________\n",
      "dense_1 (Dense)              (None, 3)                 1203      \n",
      "=================================================================\n",
      "Total params: 1,484,403\n",
      "Trainable params: 1,484,403\n",
      "Non-trainable params: 0\n",
      "_________________________________________________________________\n",
      "None\n"
     ]
    }
   ],
   "source": [
    "embed_size = 150\n",
    "lstm_out = 400\n",
    "batch_size = 64\n",
    "\n",
    "model = Sequential()\n",
    "model .add(Embedding(4000, embed_size, input_length = X.shape[1]))\n",
    "model .add(LSTM(lstm_out))\n",
    "model .add(Dense(3, activation='softmax'))\n",
    "\n",
    "modelCUDA = Sequential()\n",
    "modelCUDA .add(Embedding(4000, embed_size, input_length = X.shape[1]))\n",
    "modelCUDA .add(CuDNNLSTM(lstm_out))\n",
    "modelCUDA .add(Dense(3, activation='softmax'))\n",
    "\n",
    "sgd = SGD(lr=0.01, decay=1e-4, momentum=0.9, nesterov=True)\n",
    "model.compile(loss = 'categorical_crossentropy', optimizer=sgd, metrics=['accuracy'])\n",
    "modelCUDA.compile(loss = 'categorical_crossentropy', optimizer=sgd, metrics=['accuracy'])\n",
    "\n",
    "print(model.summary())\n",
    "print('\\n***\\n')\n",
    "print(modelCUDA.summary())"
   ]
  },
  {
   "cell_type": "code",
   "execution_count": 7,
   "metadata": {},
   "outputs": [],
   "source": [
    "X_train, X_test, y_train, y_test = train_test_split(X, pd.get_dummies(df['sentimento']), test_size=0.3,random_state=42)"
   ]
  },
  {
   "cell_type": "code",
   "execution_count": 8,
   "metadata": {
    "scrolled": false
   },
   "outputs": [
    {
     "name": "stderr",
     "output_type": "stream",
     "text": [
      "/home/gabriel/.pyenv/versions/3.6.5/lib/python3.6/site-packages/tensorflow/python/ops/gradients_impl.py:108: UserWarning: Converting sparse IndexedSlices to a dense Tensor of unknown shape. This may consume a large amount of memory.\n",
      "  \"Converting sparse IndexedSlices to a dense Tensor of unknown shape. \"\n"
     ]
    },
    {
     "name": "stdout",
     "output_type": "stream",
     "text": [
      "Epoch 1/50\n",
      "5739/5739 [==============================] - 6s 1ms/step - loss: 1.0871 - acc: 0.4032\n",
      "Epoch 2/50\n",
      "5739/5739 [==============================] - 5s 884us/step - loss: 1.0767 - acc: 0.4043\n",
      "Epoch 3/50\n",
      "5739/5739 [==============================] - 5s 884us/step - loss: 1.0566 - acc: 0.4370\n",
      "Epoch 4/50\n",
      "5739/5739 [==============================] - 5s 887us/step - loss: 0.9556 - acc: 0.5496\n",
      "Epoch 5/50\n",
      "5739/5739 [==============================] - 5s 886us/step - loss: 0.7188 - acc: 0.7076\n",
      "Epoch 6/50\n",
      "5739/5739 [==============================] - 5s 887us/step - loss: 0.4420 - acc: 0.8353\n",
      "Epoch 7/50\n",
      "5739/5739 [==============================] - 5s 887us/step - loss: 0.3215 - acc: 0.8899\n",
      "Epoch 8/50\n",
      "5739/5739 [==============================] - 5s 886us/step - loss: 0.4197 - acc: 0.8472\n",
      "Epoch 9/50\n",
      "5739/5739 [==============================] - 5s 887us/step - loss: 0.2280 - acc: 0.9310\n",
      "Epoch 10/50\n",
      "5739/5739 [==============================] - 5s 912us/step - loss: 0.1919 - acc: 0.9418\n",
      "Epoch 11/50\n",
      "5739/5739 [==============================] - 5s 890us/step - loss: 0.1636 - acc: 0.9510\n",
      "Epoch 12/50\n",
      "5739/5739 [==============================] - 5s 893us/step - loss: 0.3250 - acc: 0.8975\n",
      "Epoch 13/50\n",
      "5739/5739 [==============================] - 5s 902us/step - loss: 0.3075 - acc: 0.8916\n",
      "Epoch 14/50\n",
      "5739/5739 [==============================] - 5s 922us/step - loss: 0.2134 - acc: 0.9282\n",
      "Epoch 15/50\n",
      "5739/5739 [==============================] - 5s 913us/step - loss: 0.1541 - acc: 0.9509\n",
      "Epoch 16/50\n",
      "5739/5739 [==============================] - 5s 911us/step - loss: 0.1404 - acc: 0.9587\n",
      "Epoch 17/50\n",
      "5739/5739 [==============================] - 5s 917us/step - loss: 0.1522 - acc: 0.9523\n",
      "Epoch 18/50\n",
      "5739/5739 [==============================] - 5s 934us/step - loss: 0.1239 - acc: 0.9615\n",
      "Epoch 19/50\n",
      "5739/5739 [==============================] - 5s 941us/step - loss: 0.1239 - acc: 0.9638\n",
      "Epoch 20/50\n",
      "5739/5739 [==============================] - 5s 918us/step - loss: 0.2058 - acc: 0.9348\n",
      "Epoch 21/50\n",
      "5739/5739 [==============================] - 5s 907us/step - loss: 0.1282 - acc: 0.9620\n",
      "Epoch 22/50\n",
      "5739/5739 [==============================] - 5s 912us/step - loss: 0.2007 - acc: 0.9362\n",
      "Epoch 23/50\n",
      "5739/5739 [==============================] - 5s 888us/step - loss: 0.1571 - acc: 0.9505\n",
      "Epoch 24/50\n",
      "5739/5739 [==============================] - 5s 911us/step - loss: 0.6539 - acc: 0.7066\n",
      "Epoch 25/50\n",
      "5739/5739 [==============================] - 6s 962us/step - loss: 0.8729 - acc: 0.5883\n",
      "Epoch 26/50\n",
      "5739/5739 [==============================] - 5s 922us/step - loss: 0.6882 - acc: 0.7080\n",
      "Epoch 27/50\n",
      "5739/5739 [==============================] - 5s 901us/step - loss: 0.4791 - acc: 0.8054\n",
      "Epoch 28/50\n",
      "5739/5739 [==============================] - 5s 897us/step - loss: 0.3663 - acc: 0.8695\n",
      "Epoch 29/50\n",
      "5739/5739 [==============================] - 5s 897us/step - loss: 0.2721 - acc: 0.9056\n",
      "Epoch 30/50\n",
      "5739/5739 [==============================] - 5s 894us/step - loss: 0.2715 - acc: 0.9085\n",
      "Epoch 31/50\n",
      "5739/5739 [==============================] - 5s 893us/step - loss: 0.2130 - acc: 0.9284\n",
      "Epoch 32/50\n",
      "5739/5739 [==============================] - 5s 891us/step - loss: 0.2824 - acc: 0.9137\n",
      "Epoch 33/50\n",
      "5739/5739 [==============================] - 5s 899us/step - loss: 0.9350 - acc: 0.6020\n",
      "Epoch 34/50\n",
      "5739/5739 [==============================] - 5s 896us/step - loss: 0.6605 - acc: 0.7299\n",
      "Epoch 35/50\n",
      "5739/5739 [==============================] - 5s 907us/step - loss: 0.5850 - acc: 0.7574\n",
      "Epoch 36/50\n",
      "5739/5739 [==============================] - 5s 888us/step - loss: 0.5741 - acc: 0.7749\n",
      "Epoch 37/50\n",
      "5739/5739 [==============================] - 5s 886us/step - loss: 0.6640 - acc: 0.7301\n",
      "Epoch 38/50\n",
      "5739/5739 [==============================] - 5s 898us/step - loss: 0.8000 - acc: 0.6635\n",
      "Epoch 39/50\n",
      "5739/5739 [==============================] - 5s 911us/step - loss: 0.8771 - acc: 0.6102\n",
      "Epoch 40/50\n",
      "5739/5739 [==============================] - 5s 888us/step - loss: 1.0561 - acc: 0.5165\n",
      "Epoch 41/50\n",
      "5739/5739 [==============================] - 5s 882us/step - loss: 1.1950 - acc: 0.4813\n",
      "Epoch 42/50\n",
      "5739/5739 [==============================] - 5s 878us/step - loss: 1.1835 - acc: 0.4452\n",
      "Epoch 43/50\n",
      "5739/5739 [==============================] - 5s 879us/step - loss: 1.1181 - acc: 0.4748\n",
      "Epoch 44/50\n",
      "5739/5739 [==============================] - 5s 878us/step - loss: 0.9581 - acc: 0.5764\n",
      "Epoch 45/50\n",
      "5739/5739 [==============================] - 5s 880us/step - loss: 0.9036 - acc: 0.5994\n",
      "Epoch 46/50\n",
      "5739/5739 [==============================] - 5s 878us/step - loss: 0.8843 - acc: 0.6102\n",
      "Epoch 47/50\n",
      "5739/5739 [==============================] - 5s 879us/step - loss: 0.8806 - acc: 0.6079\n",
      "Epoch 48/50\n",
      "5739/5739 [==============================] - 5s 877us/step - loss: 0.8938 - acc: 0.5910\n",
      "Epoch 49/50\n",
      "5739/5739 [==============================] - 5s 878us/step - loss: 0.8738 - acc: 0.6069\n",
      "Epoch 50/50\n",
      "5739/5739 [==============================] - 5s 882us/step - loss: 0.8912 - acc: 0.5961\n"
     ]
    },
    {
     "data": {
      "text/plain": [
       "<tensorflow.python.keras.callbacks.History at 0x7f1a08b83278>"
      ]
     },
     "execution_count": 8,
     "metadata": {},
     "output_type": "execute_result"
    }
   ],
   "source": [
    "model.fit(X_train, y_train, batch_size=batch_size, epochs=50)"
   ]
  },
  {
   "cell_type": "code",
   "execution_count": 9,
   "metadata": {},
   "outputs": [
    {
     "name": "stderr",
     "output_type": "stream",
     "text": [
      "/home/gabriel/.pyenv/versions/3.6.5/lib/python3.6/site-packages/tensorflow/python/ops/gradients_impl.py:108: UserWarning: Converting sparse IndexedSlices to a dense Tensor of unknown shape. This may consume a large amount of memory.\n",
      "  \"Converting sparse IndexedSlices to a dense Tensor of unknown shape. \"\n"
     ]
    },
    {
     "name": "stdout",
     "output_type": "stream",
     "text": [
      "Epoch 1/50\n",
      "5739/5739 [==============================] - 7s 1ms/step - loss: 1.0850 - acc: 0.4006\n",
      "Epoch 2/50\n",
      "5739/5739 [==============================] - 1s 208us/step - loss: 1.0734 - acc: 0.4043\n",
      "Epoch 3/50\n",
      "5739/5739 [==============================] - 1s 212us/step - loss: 1.0541 - acc: 0.4219\n",
      "Epoch 4/50\n",
      "5739/5739 [==============================] - 1s 211us/step - loss: 0.9775 - acc: 0.5374\n",
      "Epoch 5/50\n",
      "5739/5739 [==============================] - 1s 216us/step - loss: 0.7535 - acc: 0.6844\n",
      "Epoch 6/50\n",
      "5739/5739 [==============================] - 1s 209us/step - loss: 0.4927 - acc: 0.8146\n",
      "Epoch 7/50\n",
      "5739/5739 [==============================] - 1s 208us/step - loss: 0.3725 - acc: 0.8691\n",
      "Epoch 8/50\n",
      "5739/5739 [==============================] - 1s 210us/step - loss: 0.5173 - acc: 0.8064\n",
      "Epoch 9/50\n",
      "5739/5739 [==============================] - 1s 210us/step - loss: 0.3466 - acc: 0.8848\n",
      "Epoch 10/50\n",
      "5739/5739 [==============================] - 1s 213us/step - loss: 0.2338 - acc: 0.9251\n",
      "Epoch 11/50\n",
      "5739/5739 [==============================] - 1s 212us/step - loss: 0.2006 - acc: 0.9383\n",
      "Epoch 12/50\n",
      "5739/5739 [==============================] - 1s 210us/step - loss: 0.1891 - acc: 0.9439\n",
      "Epoch 13/50\n",
      "5739/5739 [==============================] - 1s 211us/step - loss: 0.1652 - acc: 0.9491\n",
      "Epoch 14/50\n",
      "5739/5739 [==============================] - 1s 213us/step - loss: 0.1590 - acc: 0.9491\n",
      "Epoch 15/50\n",
      "5739/5739 [==============================] - 1s 213us/step - loss: 0.1440 - acc: 0.9568\n",
      "Epoch 16/50\n",
      "5739/5739 [==============================] - 1s 216us/step - loss: 0.1322 - acc: 0.9603\n",
      "Epoch 17/50\n",
      "5739/5739 [==============================] - 1s 212us/step - loss: 0.1243 - acc: 0.9632\n",
      "Epoch 18/50\n",
      "5739/5739 [==============================] - 1s 214us/step - loss: 0.1159 - acc: 0.9645\n",
      "Epoch 19/50\n",
      "5739/5739 [==============================] - 1s 216us/step - loss: 0.1097 - acc: 0.9665\n",
      "Epoch 20/50\n",
      "5739/5739 [==============================] - 1s 208us/step - loss: 0.0991 - acc: 0.9712\n",
      "Epoch 21/50\n",
      "5739/5739 [==============================] - 1s 224us/step - loss: 0.0958 - acc: 0.9702\n",
      "Epoch 22/50\n",
      "5739/5739 [==============================] - 1s 221us/step - loss: 0.0894 - acc: 0.9739\n",
      "Epoch 23/50\n",
      "5739/5739 [==============================] - 1s 226us/step - loss: 0.0863 - acc: 0.9737\n",
      "Epoch 24/50\n",
      "5739/5739 [==============================] - 1s 216us/step - loss: 0.0860 - acc: 0.9737\n",
      "Epoch 25/50\n",
      "5739/5739 [==============================] - 1s 215us/step - loss: 0.0800 - acc: 0.9756\n",
      "Epoch 26/50\n",
      "5739/5739 [==============================] - 1s 219us/step - loss: 0.2249 - acc: 0.9306\n",
      "Epoch 27/50\n",
      "5739/5739 [==============================] - 1s 219us/step - loss: 0.1036 - acc: 0.9655\n",
      "Epoch 28/50\n",
      "5739/5739 [==============================] - 1s 218us/step - loss: 0.0771 - acc: 0.9768\n",
      "Epoch 29/50\n",
      "5739/5739 [==============================] - 1s 213us/step - loss: 0.0722 - acc: 0.9780\n",
      "Epoch 30/50\n",
      "5739/5739 [==============================] - 1s 209us/step - loss: 0.0657 - acc: 0.9807\n",
      "Epoch 31/50\n",
      "5739/5739 [==============================] - 1s 208us/step - loss: 0.0618 - acc: 0.9814\n",
      "Epoch 32/50\n",
      "5739/5739 [==============================] - 1s 211us/step - loss: 0.0624 - acc: 0.9831\n",
      "Epoch 33/50\n",
      "5739/5739 [==============================] - 1s 211us/step - loss: 0.0561 - acc: 0.9838\n",
      "Epoch 34/50\n",
      "5739/5739 [==============================] - 1s 209us/step - loss: 0.0517 - acc: 0.9850\n",
      "Epoch 35/50\n",
      "5739/5739 [==============================] - 1s 213us/step - loss: 0.0515 - acc: 0.9854 0s - loss: 0.0482 - acc: 0\n",
      "Epoch 36/50\n",
      "5739/5739 [==============================] - 1s 208us/step - loss: 0.0490 - acc: 0.9854\n",
      "Epoch 37/50\n",
      "5739/5739 [==============================] - 1s 208us/step - loss: 0.0477 - acc: 0.9859\n",
      "Epoch 38/50\n",
      "5739/5739 [==============================] - 1s 203us/step - loss: 0.0448 - acc: 0.9862\n",
      "Epoch 39/50\n",
      "5739/5739 [==============================] - 1s 211us/step - loss: 0.0425 - acc: 0.9871\n",
      "Epoch 40/50\n",
      "5739/5739 [==============================] - 1s 209us/step - loss: 0.0423 - acc: 0.9880\n",
      "Epoch 41/50\n",
      "5739/5739 [==============================] - 1s 210us/step - loss: 0.0388 - acc: 0.9885\n",
      "Epoch 42/50\n",
      "5739/5739 [==============================] - 1s 215us/step - loss: 0.0370 - acc: 0.9901\n",
      "Epoch 43/50\n",
      "5739/5739 [==============================] - 1s 229us/step - loss: 0.0352 - acc: 0.9899\n",
      "Epoch 44/50\n",
      "5739/5739 [==============================] - 1s 215us/step - loss: 0.0373 - acc: 0.9880\n",
      "Epoch 45/50\n",
      "5739/5739 [==============================] - 1s 216us/step - loss: 0.0330 - acc: 0.9913\n",
      "Epoch 46/50\n",
      "5739/5739 [==============================] - 1s 225us/step - loss: 0.0337 - acc: 0.9911\n",
      "Epoch 47/50\n",
      "5739/5739 [==============================] - 1s 225us/step - loss: 0.0310 - acc: 0.9916\n",
      "Epoch 48/50\n",
      "5739/5739 [==============================] - 1s 221us/step - loss: 0.0312 - acc: 0.9911\n",
      "Epoch 49/50\n",
      "5739/5739 [==============================] - 1s 205us/step - loss: 0.0318 - acc: 0.9918\n",
      "Epoch 50/50\n",
      "5739/5739 [==============================] - 1s 212us/step - loss: 0.0290 - acc: 0.9920\n"
     ]
    },
    {
     "data": {
      "text/plain": [
       "<tensorflow.python.keras.callbacks.History at 0x7f1a08b837f0>"
      ]
     },
     "execution_count": 9,
     "metadata": {},
     "output_type": "execute_result"
    }
   ],
   "source": [
    "modelCUDA.fit(X_train, y_train, batch_size=batch_size, epochs=50)"
   ]
  },
  {
   "cell_type": "code",
   "execution_count": 10,
   "metadata": {},
   "outputs": [
    {
     "name": "stdout",
     "output_type": "stream",
     "text": [
      "2460/2460 [==============================] - 1s 324us/step\n",
      "score: 0.89\n",
      "acc: 0.6\n"
     ]
    }
   ],
   "source": [
    "score, acc = model.evaluate(X_test, y_test, batch_size=batch_size)\n",
    "print('score: {0:.2}'.format(score))\n",
    "print('acc: {0:.2}'.format(acc))"
   ]
  },
  {
   "cell_type": "code",
   "execution_count": 11,
   "metadata": {},
   "outputs": [],
   "source": [
    "def deprocess(text):\n",
    "    text_test = preprocess(text)\n",
    "    text_test = tokenizer.texts_to_sequences([text])\n",
    "    text_test = pad_sequences(text_test)\n",
    "    text_to_array = np.zeros(X.shape[1])\n",
    "    text_to_array[(text_to_array.shape[0] - text_test.shape[1]):] = text_test\n",
    "    result = np.argmax(model.predict(text_to_array.reshape(1,X.shape[1])))\n",
    "\n",
    "    if result == 0:\n",
    "        print('Neutro')\n",
    "    elif result == 1:\n",
    "        print('Negativo')\n",
    "    else:\n",
    "        print('Positvo')"
   ]
  },
  {
   "cell_type": "code",
   "execution_count": 12,
   "metadata": {},
   "outputs": [
    {
     "name": "stdout",
     "output_type": "stream",
     "text": [
      "Neutro\n"
     ]
    }
   ],
   "source": [
    "deprocess('PM apreende maconha e celular no presidio')"
   ]
  }
 ],
 "metadata": {
  "kernelspec": {
   "display_name": "pyenv",
   "language": "python",
   "name": "pyenv"
  },
  "language_info": {
   "codemirror_mode": {
    "name": "ipython",
    "version": 3
   },
   "file_extension": ".py",
   "mimetype": "text/x-python",
   "name": "python",
   "nbconvert_exporter": "python",
   "pygments_lexer": "ipython3",
   "version": "3.6.5"
  }
 },
 "nbformat": 4,
 "nbformat_minor": 2
}
