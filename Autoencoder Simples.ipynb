{
 "cells": [
  {
   "cell_type": "code",
   "execution_count": 1,
   "metadata": {},
   "outputs": [],
   "source": [
    "import tensorflow as tf\n",
    "import numpy as np\n",
    "import matplotlib.pyplot as plt\n",
    "\n",
    "%matplotlib inline\n",
    "\n",
    "from tensorflow.examples.tutorials.mnist import input_data"
   ]
  },
  {
   "cell_type": "code",
   "execution_count": 2,
   "metadata": {},
   "outputs": [
    {
     "name": "stdout",
     "output_type": "stream",
     "text": [
      "WARNING:tensorflow:From <ipython-input-2-556c649dc745>:1: read_data_sets (from tensorflow.contrib.learn.python.learn.datasets.mnist) is deprecated and will be removed in a future version.\n",
      "Instructions for updating:\n",
      "Please use alternatives such as official/mnist/dataset.py from tensorflow/models.\n",
      "WARNING:tensorflow:From /home/gabriel/.pyenv/versions/3.6.5/lib/python3.6/site-packages/tensorflow/contrib/learn/python/learn/datasets/mnist.py:260: maybe_download (from tensorflow.contrib.learn.python.learn.datasets.base) is deprecated and will be removed in a future version.\n",
      "Instructions for updating:\n",
      "Please write your own downloading logic.\n",
      "WARNING:tensorflow:From /home/gabriel/.pyenv/versions/3.6.5/lib/python3.6/site-packages/tensorflow/contrib/learn/python/learn/datasets/mnist.py:262: extract_images (from tensorflow.contrib.learn.python.learn.datasets.mnist) is deprecated and will be removed in a future version.\n",
      "Instructions for updating:\n",
      "Please use tf.data to implement this functionality.\n",
      "Extracting /tmp/data/train-images-idx3-ubyte.gz\n",
      "WARNING:tensorflow:From /home/gabriel/.pyenv/versions/3.6.5/lib/python3.6/site-packages/tensorflow/contrib/learn/python/learn/datasets/mnist.py:267: extract_labels (from tensorflow.contrib.learn.python.learn.datasets.mnist) is deprecated and will be removed in a future version.\n",
      "Instructions for updating:\n",
      "Please use tf.data to implement this functionality.\n",
      "Extracting /tmp/data/train-labels-idx1-ubyte.gz\n",
      "WARNING:tensorflow:From /home/gabriel/.pyenv/versions/3.6.5/lib/python3.6/site-packages/tensorflow/contrib/learn/python/learn/datasets/mnist.py:110: dense_to_one_hot (from tensorflow.contrib.learn.python.learn.datasets.mnist) is deprecated and will be removed in a future version.\n",
      "Instructions for updating:\n",
      "Please use tf.one_hot on tensors.\n",
      "Extracting /tmp/data/t10k-images-idx3-ubyte.gz\n",
      "Extracting /tmp/data/t10k-labels-idx1-ubyte.gz\n",
      "WARNING:tensorflow:From /home/gabriel/.pyenv/versions/3.6.5/lib/python3.6/site-packages/tensorflow/contrib/learn/python/learn/datasets/mnist.py:290: DataSet.__init__ (from tensorflow.contrib.learn.python.learn.datasets.mnist) is deprecated and will be removed in a future version.\n",
      "Instructions for updating:\n",
      "Please use alternatives such as official/mnist/dataset.py from tensorflow/models.\n"
     ]
    }
   ],
   "source": [
    "mnist = input_data.read_data_sets('/tmp/data', one_hot=True)"
   ]
  },
  {
   "cell_type": "code",
   "execution_count": 3,
   "metadata": {},
   "outputs": [
    {
     "data": {
      "image/png": "[encoded data removed]",
      "text/plain": [
       "<Figure size 720x720 with 5 Axes>"
      ]
     },
     "metadata": {},
     "output_type": "display_data"
    }
   ],
   "source": [
    "plt.figure(figsize=(10,10))\n",
    "\n",
    "for i in range(5):\n",
    "    plt.subplot(1,5,i+1)\n",
    "    plt.imshow(np.reshape(mnist.train.images[i], (28,28)), cmap='gray')\n",
    "    \n",
    "plt.show()"
   ]
  },
  {
   "cell_type": "markdown",
   "metadata": {},
   "source": [
    "# Estruturando a Rede Neural"
   ]
  },
  {
   "cell_type": "code",
   "execution_count": 4,
   "metadata": {},
   "outputs": [],
   "source": [
    "num_input = 784\n",
    "num_hidden1 = 256\n",
    "num_hidden2 = 128"
   ]
  },
  {
   "cell_type": "code",
   "execution_count": 5,
   "metadata": {},
   "outputs": [],
   "source": [
    "x = tf.placeholder(tf.float32, [None, num_input])"
   ]
  },
  {
   "cell_type": "code",
   "execution_count": 6,
   "metadata": {},
   "outputs": [],
   "source": [
    "# Weights \n",
    "\n",
    "weights = {\n",
    "    'encoder_h1': tf.Variable(tf.random_normal([num_input,num_hidden1]),dtype=tf.float32),\n",
    "    'encoder_h2': tf.Variable(tf.random_normal([num_hidden1, num_hidden2]), dtype=tf.float32),\n",
    "    'decoder_h1': tf.Variable(tf.random_normal([num_hidden2, num_hidden1]), dtype=tf.float32),\n",
    "    'decoder_h2': tf.Variable(tf.random_normal([num_hidden1, num_input]), dtype=tf.float32)\n",
    "}"
   ]
  },
  {
   "cell_type": "code",
   "execution_count": 7,
   "metadata": {},
   "outputs": [],
   "source": [
    "# Bias\n",
    "\n",
    "bias = {\n",
    "    'encoder_h1': tf.Variable(tf.random_normal([num_hidden1]), dtype=tf.float32),\n",
    "    'encoder_h2': tf.Variable(tf.random_normal([num_hidden2]), dtype=tf.float32),\n",
    "    'decoder_h1': tf.Variable(tf.random_normal([num_hidden1]), dtype=tf.float32),\n",
    "    'decoder_h2': tf.Variable(tf.random_normal([num_input]), dtype=tf.float32)\n",
    "}"
   ]
  },
  {
   "cell_type": "code",
   "execution_count": 8,
   "metadata": {},
   "outputs": [],
   "source": [
    "# Encoder\n",
    "\n",
    "def encoder(x):\n",
    "\n",
    "    layer_1 = tf.nn.sigmoid(tf.add(tf.matmul(x, weights['encoder_h1']), bias['encoder_h1']))\n",
    "    \n",
    "    layer_2 = tf.nn.sigmoid(tf.add(tf.matmul(layer_1, weights['encoder_h2']), bias['encoder_h2']))\n",
    "    \n",
    "    return layer_2"
   ]
  },
  {
   "cell_type": "code",
   "execution_count": 9,
   "metadata": {},
   "outputs": [],
   "source": [
    "# Decoder\n",
    "\n",
    "def decoder(x):\n",
    "    \n",
    "    layer_1 = tf.nn.sigmoid(tf.add(tf.matmul(x, weights['decoder_h1']), bias['decoder_h1']))\n",
    "    \n",
    "    layer_2 = tf.nn.sigmoid(tf.add(tf.matmul(layer_1, weights['decoder_h2']), bias['decoder_h2']))\n",
    "    \n",
    "    return layer_2"
   ]
  },
  {
   "cell_type": "code",
   "execution_count": 10,
   "metadata": {},
   "outputs": [],
   "source": [
    "# Model\n",
    "\n",
    "encoder_nn = encoder(x) \n",
    "decoder_nn = decoder(encoder_nn)"
   ]
  },
  {
   "cell_type": "code",
   "execution_count": 11,
   "metadata": {},
   "outputs": [],
   "source": [
    "# Prediction\n",
    "y_pred = decoder_nn"
   ]
  },
  {
   "cell_type": "code",
   "execution_count": 12,
   "metadata": {},
   "outputs": [],
   "source": [
    "# Target\n",
    "y_true = x"
   ]
  },
  {
   "cell_type": "code",
   "execution_count": 13,
   "metadata": {},
   "outputs": [],
   "source": [
    "learning_rate = 0.01\n",
    "\n",
    "loss = tf.reduce_mean(tf.pow(y_true - y_pred, 2))\n",
    "opt = tf.train.AdamOptimizer(learning_rate).minimize(loss)"
   ]
  },
  {
   "cell_type": "code",
   "execution_count": 14,
   "metadata": {},
   "outputs": [],
   "source": [
    "# Iniciar variáveis globais\n",
    "\n",
    "init = tf.global_variables_initializer()"
   ]
  },
  {
   "cell_type": "markdown",
   "metadata": {},
   "source": [
    "# Treinamento da rede neural"
   ]
  },
  {
   "cell_type": "code",
   "execution_count": 15,
   "metadata": {},
   "outputs": [
    {
     "name": "stdout",
     "output_type": "stream",
     "text": [
      "Epoch: 1000, Loss: 0.062916\n",
      "Epoch: 2000, Loss: 0.054566\n",
      "Epoch: 3000, Loss: 0.053269\n",
      "Epoch: 4000, Loss: 0.051199\n",
      "Epoch: 5000, Loss: 0.048936\n",
      "Epoch: 6000, Loss: 0.047859\n",
      "Epoch: 7000, Loss: 0.046851\n",
      "Epoch: 8000, Loss: 0.046600\n",
      "Epoch: 9000, Loss: 0.046985\n",
      "Epoch: 10000, Loss: 0.047877\n",
      "Epoch: 11000, Loss: 0.044625\n",
      "Epoch: 12000, Loss: 0.043895\n",
      "Epoch: 13000, Loss: 0.043107\n",
      "Epoch: 14000, Loss: 0.043480\n",
      "Epoch: 15000, Loss: 0.042511\n",
      "Epoch: 16000, Loss: 0.041360\n",
      "Epoch: 17000, Loss: 0.044140\n",
      "Epoch: 18000, Loss: 0.040506\n",
      "Epoch: 19000, Loss: 0.041317\n",
      "Epoch: 20000, Loss: 0.044164\n",
      "Epoch: 21000, Loss: 0.042228\n",
      "Epoch: 22000, Loss: 0.040369\n",
      "Epoch: 23000, Loss: 0.040339\n",
      "Epoch: 24000, Loss: 0.039418\n",
      "Epoch: 25000, Loss: 0.039199\n",
      "Epoch: 26000, Loss: 0.039380\n",
      "Epoch: 27000, Loss: 0.038363\n",
      "Epoch: 28000, Loss: 0.038628\n",
      "Epoch: 29000, Loss: 0.035763\n",
      "Epoch: 30000, Loss: 0.039866\n",
      "\n",
      "Original Images\n"
     ]
    },
    {
     "data": {
      "image/png": "[encoded data removed]",
      "text/plain": [
       "<Figure size 288x288 with 1 Axes>"
      ]
     },
     "metadata": {},
     "output_type": "display_data"
    },
    {
     "name": "stdout",
     "output_type": "stream",
     "text": [
      "Reconstructed Images\n"
     ]
    },
    {
     "data": {
      "image/png": "[encoded data removed]",
      "text/plain": [
       "<Figure size 288x288 with 1 Axes>"
      ]
     },
     "metadata": {},
     "output_type": "display_data"
    }
   ],
   "source": [
    "epochs = 30000\n",
    "batch_size = 256\n",
    "\n",
    "with tf.Session() as sess:\n",
    "    \n",
    "    sess.run(init)\n",
    "    \n",
    "    for i in range(1, epochs + 1):\n",
    "        \n",
    "        batch_x,_ = mnist.train.next_batch(batch_size)\n",
    "        \n",
    "        _,l = sess.run([opt, loss], feed_dict={x:batch_x})\n",
    "        \n",
    "        if i % 1000 == 0:\n",
    "            \n",
    "            print('Epoch: %i, Loss: %f' % (i, l))\n",
    "            \n",
    "    n = 4\n",
    "    orig_imgs = np.zeros((28 * n,28 * n))\n",
    "    rec_imgs = np.zeros((28 * n, 28 * n))\n",
    "    \n",
    "    for i in range(n):\n",
    "        \n",
    "        batch_x,_ = mnist.test.next_batch(n)\n",
    "        \n",
    "        g = sess.run(decoder_nn, feed_dict={x:batch_x})\n",
    "            \n",
    "        for j in range(n):\n",
    "            \n",
    "            orig_imgs[i * 28:(i + 1) * 28, j * 28:(j + 1) * 28] = batch_x[j].reshape([28,28])\n",
    "            \n",
    "        for j in range(n):\n",
    "            \n",
    "            rec_imgs[i * 28:(i + 1) * 28, j * 28:(j + 1) * 28] = g[j].reshape([28,28])\n",
    "            \n",
    "    print()\n",
    "    \n",
    "    print(\"Original Images\")\n",
    "    plt.figure(figsize=(n, n))\n",
    "    plt.imshow(orig_imgs, origin=\"upper\", cmap=\"gray\")\n",
    "    plt.axis('off')\n",
    "    plt.show()\n",
    "\n",
    "    print(\"Reconstructed Images\")\n",
    "    plt.figure(figsize=(n, n))\n",
    "    plt.imshow(rec_imgs, origin=\"upper\", cmap=\"gray\")\n",
    "    plt.axis('off')\n",
    "    plt.show()"
   ]
  }
 ],
 "metadata": {
  "kernelspec": {
   "display_name": "pyenv",
   "language": "python",
   "name": "pyenv"
  },
  "language_info": {
   "codemirror_mode": {
    "name": "ipython",
    "version": 3
   },
   "file_extension": ".py",
   "mimetype": "text/x-python",
   "name": "python",
   "nbconvert_exporter": "python",
   "pygments_lexer": "ipython3",
   "version": "3.6.5"
  }
 },
 "nbformat": 4,
 "nbformat_minor": 2
}
